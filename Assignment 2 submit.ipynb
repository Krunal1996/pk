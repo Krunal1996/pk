{
 "cells": [
  {
   "cell_type": "code",
   "execution_count": 1,
   "metadata": {},
   "outputs": [
    {
     "name": "stdout",
     "output_type": "stream",
     "text": [
      "205\n"
     ]
    }
   ],
   "source": [
    "l = [5,47,4,88,40,7,9,2,3]                                                    \n",
    "\n",
    "def myreduce(a,b):\n",
    "    p = b[0]\n",
    "    for i in b[1:]:\n",
    "        p = a(p,i)\n",
    "    return p\n",
    "\n",
    "print(myreduce(lambda x,y:x+y,l))"
   ]
  },
  {
   "cell_type": "code",
   "execution_count": null,
   "metadata": {},
   "outputs": [],
   "source": []
  },
  {
   "cell_type": "code",
   "execution_count": null,
   "metadata": {},
   "outputs": [],
   "source": []
  },
  {
   "cell_type": "code",
   "execution_count": 2,
   "metadata": {},
   "outputs": [
    {
     "name": "stdout",
     "output_type": "stream",
     "text": [
      "[66, 32]\n"
     ]
    }
   ],
   "source": [
    "l = [3,4,5,66,7,4,32,3,1,2,9]                            \n",
    "\n",
    "def myfilter(a,b):\n",
    "    p = []\n",
    "    if a != None:\n",
    "        for i in b:\n",
    "            if a(i):\n",
    "                 p.append(i)\n",
    "        return p\n",
    "    else:\n",
    "        print(\"not able to procude with None\")\n",
    "        return p\n",
    "\n",
    "print(list(myfilter(lambda x:x>=25,l)))"
   ]
  },
  {
   "cell_type": "code",
   "execution_count": null,
   "metadata": {},
   "outputs": [],
   "source": []
  },
  {
   "cell_type": "code",
   "execution_count": null,
   "metadata": {},
   "outputs": [],
   "source": []
  },
  {
   "cell_type": "code",
   "execution_count": 3,
   "metadata": {},
   "outputs": [
    {
     "name": "stdout",
     "output_type": "stream",
     "text": [
      "['A', 'C', 'A', 'D', 'G', 'I', 'L', 'D']\n",
      "['x', 'xx', 'xxx', 'xxxx', 'y', 'yy', 'yyy', 'yyyy', 'z', 'zz', 'zzz', 'zzzz']\n",
      "['x', 'y', 'z', 'xx', 'yy', 'zz', 'xx', 'yy', 'zz', 'xxxx', 'yyyy', 'zzzz']\n",
      "[[2], [3], [4], [3], [4], [5], [4], [5], [6]]\n",
      "[[2, 3, 4, 5], [3, 4, 5, 6], [4, 5, 6, 7], [5, 6, 7, 8]]\n",
      "[(1, 1), (2, 1), (3, 1), (1, 2), (2, 2), (3, 2), (1, 3), (2, 3), (3, 3)]\n"
     ]
    }
   ],
   "source": [
    "print([l for l in \"ACADGILD\"])\n",
    "#2\n",
    "li=['x','y','z']\n",
    "print([i*n for i in li for n in range(1,5)])\n",
    "#3\n",
    "p=[i*n  for i in range(1,3)  for n in li ]\n",
    "p1=(i*n  for i in range(2,5)  for n in li if i!=3)#i!=3 skip the third loop\n",
    "p.extend(p1)\n",
    "print(p)\n",
    "#4\n",
    "y=[[x] for x in range(2,5)]\n",
    "y.extend([[y] for y in range(3,6)])\n",
    "y.extend([[y] for y in range(4,7)])\n",
    "print(y)\n",
    "#5\n",
    "y=[[a for a in range(2,6)]]\n",
    "y.extend([[y for y in range(3,7)]])\n",
    "y.extend([[y for y in range(4,8)]])\n",
    "y.extend([[y for y in range(5,9)]])\n",
    "print(y)\n",
    "#6\n",
    "x=[(x,w)for x in range(1,4) for w in range(1,2)]\n",
    "x.extend([(x,w)for x in range(1,4) for w in range(2,3)])\n",
    "x.extend([(x,w)for x in range(1,4) for w in range(3,4)])\n",
    "print(x)\n"
   ]
  },
  {
   "cell_type": "code",
   "execution_count": null,
   "metadata": {},
   "outputs": [],
   "source": []
  },
  {
   "cell_type": "code",
   "execution_count": null,
   "metadata": {},
   "outputs": [],
   "source": []
  },
  {
   "cell_type": "code",
   "execution_count": 4,
   "metadata": {},
   "outputs": [
    {
     "name": "stdout",
     "output_type": "stream",
     "text": [
      "krunalkathwate\n"
     ]
    }
   ],
   "source": [
    "def find_longest_word(words_list):\n",
    "    word_len = []\n",
    "    for n in words_list:\n",
    "        word_len.append((len(n), n))\n",
    "    word_len.sort()\n",
    "    return word_len[-1][1]\n",
    "\n",
    "print(find_longest_word([\"krunal\", \"kathwate\", \"krunalkathwate\"]))"
   ]
  },
  {
   "cell_type": "code",
   "execution_count": null,
   "metadata": {},
   "outputs": [],
   "source": []
  },
  {
   "cell_type": "code",
   "execution_count": null,
   "metadata": {},
   "outputs": [],
   "source": []
  },
  {
   "cell_type": "code",
   "execution_count": 5,
   "metadata": {},
   "outputs": [
    {
     "name": "stdout",
     "output_type": "stream",
     "text": [
      "x : 5\n",
      "y : 6\n",
      "z : 7\n",
      "the area of the triangle is :  14.696938456699069\n"
     ]
    }
   ],
   "source": [
    "class ino:\n",
    "    def new(self):\n",
    "        self.a=float(input(\"x : \"))\n",
    "        self.b=float(input(\"y : \"))\n",
    "        self.c=float(input(\"z : \"))\n",
    "class cal(ino):\n",
    "    def e(self):\n",
    "        s=(self.a+self.b+self.c)/2\n",
    "        print(\"the area of the triangle is : \",(s*(s-self.a)*(s-self.b)*(s-self.c))**0.5)\n",
    "\n",
    "        \n",
    "obj1=cal()\n",
    "obj1.new()\n",
    "obj1.e()"
   ]
  },
  {
   "cell_type": "code",
   "execution_count": null,
   "metadata": {},
   "outputs": [],
   "source": []
  },
  {
   "cell_type": "code",
   "execution_count": null,
   "metadata": {},
   "outputs": [],
   "source": []
  },
  {
   "cell_type": "code",
   "execution_count": 6,
   "metadata": {},
   "outputs": [
    {
     "name": "stdout",
     "output_type": "stream",
     "text": [
      "enter the number of elements : Sachin Ramesh Tendulkar (/ˌsʌtʃɪn tɛnˈduːlkər/ (About this soundlisten); born 24 April 1973) is an Indian former international cricketer and a former captain of the Indian national team. He is widely regarded as one of the greatest batsmen in the history of cricket.[5] He is the highest run scorer of all time in International cricket. Considered as the world's most prolific batsman of all time,[6] he is the only player to have scored one hundred international centuries, the first batsman to score a double century in a One Day International (ODI), the holder of the record for the most runs in both Test and ODI, and the only player to complete more than 30,000 runs in international cricket.[7]\n",
      "\n",
      " enter the integer : 12\n",
      "['soundlisten);', 'international', 'International', 'international', 'International', 'international']\n"
     ]
    }
   ],
   "source": [
    "def long():\n",
    "    wd=[]#empty list\n",
    "    for i in range(1,2):    \n",
    "        n=list(input(\"enter the number of elements : \").split())\n",
    "        lo=int(input(\"\\n enter the integer : \"))\n",
    "        #st = ' '.join(map(str, n))#convert list to string\n",
    "        #print(st)\n",
    "    for i in n:\n",
    "        if len(i) > lo:\n",
    "            wd.append(i)\n",
    "    #wd.split(\" \")\n",
    "    print(wd)\n",
    "            \n",
    "long()"
   ]
  },
  {
   "cell_type": "code",
   "execution_count": null,
   "metadata": {},
   "outputs": [],
   "source": []
  },
  {
   "cell_type": "code",
   "execution_count": null,
   "metadata": {},
   "outputs": [],
   "source": []
  },
  {
   "cell_type": "code",
   "execution_count": 8,
   "metadata": {},
   "outputs": [
    {
     "name": "stdout",
     "output_type": "stream",
     "text": [
      "enter the number of elements : hgasvdc hGSDV AHV A ASGV JysvdggYSV \n",
      "the list is : \n",
      " ['hgasvdc', 'hGSDV', 'AHV', 'A', 'ASGV', 'JysvdggYSV']\n",
      "output is :  [7, 5, 3, 1, 4, 10]\n"
     ]
    }
   ],
   "source": [
    "def lomo():\n",
    "    w=[]\n",
    "    n=list(input(\"enter the number of elements : \").split())\n",
    "    print(\"the list is : \\n\",n)\n",
    "    for i in n:\n",
    "        a = len(i)\n",
    "        w.append(a)\n",
    "    print(\"output is : \",w)\n",
    "lomo()"
   ]
  },
  {
   "cell_type": "code",
   "execution_count": null,
   "metadata": {},
   "outputs": [],
   "source": []
  },
  {
   "cell_type": "code",
   "execution_count": null,
   "metadata": {},
   "outputs": [],
   "source": []
  },
  {
   "cell_type": "code",
   "execution_count": 10,
   "metadata": {},
   "outputs": [
    {
     "name": "stdout",
     "output_type": "stream",
     "text": [
      "enter the character : u\n",
      "True\n"
     ]
    }
   ],
   "source": [
    "def vol():\n",
    "    a=\"kruNAL\"\n",
    "    for i in range(0,1):\n",
    "        s=input(\"enter the character : \")\n",
    "        if s in a:\n",
    "            return 1\n",
    "        else:\n",
    "            0\n",
    "print(bool(vol()))"
   ]
  },
  {
   "cell_type": "code",
   "execution_count": null,
   "metadata": {},
   "outputs": [],
   "source": []
  }
 ],
 "metadata": {
  "kernelspec": {
   "display_name": "Python 3",
   "language": "python",
   "name": "python3"
  },
  "language_info": {
   "codemirror_mode": {
    "name": "ipython",
    "version": 3
   },
   "file_extension": ".py",
   "mimetype": "text/x-python",
   "name": "python",
   "nbconvert_exporter": "python",
   "pygments_lexer": "ipython3",
   "version": "3.7.6"
  }
 },
 "nbformat": 4,
 "nbformat_minor": 4
}
